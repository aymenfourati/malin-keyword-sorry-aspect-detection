{
  "nbformat": 4,
  "nbformat_minor": 0,
  "metadata": {
    "colab": {
      "provenance": []
    },
    "kernelspec": {
      "name": "python3",
      "display_name": "Python 3"
    },
    "language_info": {
      "name": "python"
    }
  },
  "cells": [
    {
      "cell_type": "markdown",
      "source": [
        "# LSTM binary classification"
      ],
      "metadata": {
        "id": "YR4eXyyS1W1O"
      }
    },
    {
      "cell_type": "markdown",
      "source": [
        "### Importing des dependences"
      ],
      "metadata": {
        "id": "AfGGO-cs1kvH"
      }
    },
    {
      "cell_type": "code",
      "execution_count": null,
      "metadata": {
        "id": "KGQJ0g23D3TN"
      },
      "outputs": [],
      "source": [
        "from sklearn.model_selection import train_test_split\n",
        "from keras.models import Sequential\n",
        "from keras.preprocessing.text import Tokenizer\n",
        "from matplotlib import pyplot as plt\n",
        "from keras.preprocessing.sequence import pad_sequences\n",
        "from keras.layers import Embedding,Dense,LSTM,Dropout,Flatten,BatchNormalization,Conv1D,GlobalMaxPooling1D,MaxPooling1D\n",
        "from keras.optimizers import  SGD\n",
        "import matplotlib.pyplot as plt\n",
        "from keras.regularizers import l2\n",
        "from keras.optimizers import Adam\n",
        "from keras import regularizers\n",
        "from keras.callbacks import EarlyStopping\n",
        "from sklearn.preprocessing import OneHotEncoder\n",
        "from keras.preprocessing import sequence\n",
        "\n",
        "\n",
        "from tensorflow.keras.utils import to_categorical\n",
        "from keras import regularizers\n",
        "import pandas as pd\n",
        "import string\n",
        "import numpy as np\n",
        "import matplotlib.pyplot as plt\n",
        "\n",
        "import os"
      ]
    },
    {
      "cell_type": "markdown",
      "source": [
        "### Importation du dataset"
      ],
      "metadata": {
        "id": "2xbpPrxo1pWH"
      }
    },
    {
      "cell_type": "code",
      "source": [
        "data = pd.read_csv('/content/drive/MyDrive/database_apology_detection_v2.csv', usecols=['response', 'sorry_aspect'])"
      ],
      "metadata": {
        "id": "7B2RQbhnYOa3"
      },
      "execution_count": null,
      "outputs": []
    },
    {
      "cell_type": "markdown",
      "source": [
        "Visualizing du dataset :"
      ],
      "metadata": {
        "id": "Ig5Oq1qI1tue"
      }
    },
    {
      "cell_type": "code",
      "source": [
        "data.sorry_aspect.value_counts()"
      ],
      "metadata": {
        "colab": {
          "base_uri": "https://localhost:8080/"
        },
        "id": "wf7T6cHHY4Ku",
        "outputId": "eaf8c6ab-3041-43a4-e9aa-3f6a85cf9f53"
      },
      "execution_count": null,
      "outputs": [
        {
          "output_type": "execute_result",
          "data": {
            "text/plain": [
              "1    108\n",
              "0    105\n",
              "Name: sorry_aspect, dtype: int64"
            ]
          },
          "metadata": {},
          "execution_count": 132
        }
      ]
    },
    {
      "cell_type": "code",
      "source": [
        "X=data[\"response\"]\n",
        "Y=data[\"sorry_aspect\"].astype(int)"
      ],
      "metadata": {
        "id": "b-uy5bU2Y8bn"
      },
      "execution_count": null,
      "outputs": []
    },
    {
      "cell_type": "code",
      "source": [
        "X"
      ],
      "metadata": {
        "colab": {
          "base_uri": "https://localhost:8080/"
        },
        "id": "GIa3lQOGY_Xm",
        "outputId": "9b33af7b-3086-4ff6-fc3d-11e769359a91"
      },
      "execution_count": null,
      "outputs": [
        {
          "output_type": "execute_result",
          "data": {
            "text/plain": [
              "0      Thank you for your feedback! We're delighted t...\n",
              "1      We're sorry to hear that your experience fell ...\n",
              "2      We apologize for any inconvenience you may hav...\n",
              "3      Thank you for taking the time to share your th...\n",
              "4      We're truly sorry to hear that your visit did ...\n",
              "                             ...                        \n",
              "208    We appreciate your positive review! We strive ...\n",
              "209    We apologize for any inconvenience you faced d...\n",
              "210    Your positive feedback motivates us to keep de...\n",
              "211    We're sorry for any inconvenience during your ...\n",
              "212    Thank you for your positive review! We're thri...\n",
              "Name: response, Length: 213, dtype: object"
            ]
          },
          "metadata": {},
          "execution_count": 134
        }
      ]
    },
    {
      "cell_type": "code",
      "source": [
        "Y\n"
      ],
      "metadata": {
        "colab": {
          "base_uri": "https://localhost:8080/"
        },
        "id": "CkocRKk9ZCQa",
        "outputId": "018473eb-83c3-4e4a-dc18-a53fc67770c9"
      },
      "execution_count": null,
      "outputs": [
        {
          "output_type": "execute_result",
          "data": {
            "text/plain": [
              "0      0\n",
              "1      1\n",
              "2      1\n",
              "3      0\n",
              "4      1\n",
              "      ..\n",
              "208    0\n",
              "209    1\n",
              "210    0\n",
              "211    1\n",
              "212    0\n",
              "Name: sorry_aspect, Length: 213, dtype: int64"
            ]
          },
          "metadata": {},
          "execution_count": 135
        }
      ]
    },
    {
      "cell_type": "markdown",
      "source": [
        "### Preprocessing"
      ],
      "metadata": {
        "id": "htzRpf-X1zY-"
      }
    },
    {
      "cell_type": "markdown",
      "source": [
        "Nous avons tester plusieurs techniques de preprocessing : supression des stops words, lemmitization, stemming mais cela n'a pas induit une meilleur classification. Nous nous limiterons a la suppression de la ponctuation pour cette version"
      ],
      "metadata": {
        "id": "g8_YqKE5syfP"
      }
    },
    {
      "cell_type": "code",
      "source": [
        "def clean_text(txt):\n",
        "    txt = \"\".join(v for v in txt if v not in string.punctuation.lower())\n",
        "    return txt\n",
        "X=[clean_text(i) for i in X]"
      ],
      "metadata": {
        "id": "mGL2J0_JZN4P"
      },
      "execution_count": null,
      "outputs": []
    },
    {
      "cell_type": "code",
      "source": [
        "# Tokenization\n",
        "tokenizer = Tokenizer()\n",
        "tokenizer.fit_on_texts(X)\n",
        "\n",
        "def get_sequence_of_tokens(corpus):\n",
        "\n",
        "    ## total_words : le nombre maximal de mots dans le vocabulaire de notre models\n",
        "    total_words = len(tokenizer.word_index) + 1\n",
        "\n",
        "    ## conversion de la dataset en sequences de tokens\n",
        "    input_sequences = []\n",
        "    for line in corpus:\n",
        "        token_list = tokenizer.texts_to_sequences([line])[0]\n",
        "        input_sequences.append(token_list)\n",
        "    return input_sequences, total_words\n",
        "\n",
        "inp_sequences, total_words = get_sequence_of_tokens(X)"
      ],
      "metadata": {
        "id": "HObvziqXZQ-Q"
      },
      "execution_count": null,
      "outputs": []
    },
    {
      "cell_type": "code",
      "source": [
        "# Ajout d'un padding aux sequences pour les homogeniser a une seul longeur\n",
        "def generate_padded_sequences(input_sequences):\n",
        "    max_sequence_len = max([len(x) for x in input_sequences])\n",
        "    input_sequences = np.array(pad_sequences(input_sequences, maxlen=max_sequence_len, padding='post'))\n",
        "\n",
        "    # Note : la fonction pad_sequences rajoute toujours une collumn de trop pour des raisons que j'ignore c'est pour cela que je vais la supprimer :\n",
        "    predictors = input_sequences[:,:-1]\n",
        "    return predictors, max_sequence_len\n",
        "\n",
        "predictors, max_sequence_len = generate_padded_sequences(inp_sequences)"
      ],
      "metadata": {
        "id": "2nWvJxz1Zb__"
      },
      "execution_count": null,
      "outputs": []
    },
    {
      "cell_type": "markdown",
      "source": [
        "### Decoupage du dataset\n",
        "On prendra seulement 10% pour la validation a cause de la taille reduite de la dataset."
      ],
      "metadata": {
        "id": "HegXRDb9wio7"
      }
    },
    {
      "cell_type": "code",
      "source": [
        "x_train, x_test, y_train, y_test=train_test_split(predictors,Y, test_size=0.10, random_state=42)\n",
        "y_train=to_categorical(y_train)\n",
        "y_test=to_categorical(y_test)"
      ],
      "metadata": {
        "id": "BxKaYE5KZlN4"
      },
      "execution_count": null,
      "outputs": []
    },
    {
      "cell_type": "markdown",
      "source": [
        "### Architecture du modele"
      ],
      "metadata": {
        "id": "cYeGIbl4wvi5"
      }
    },
    {
      "cell_type": "code",
      "source": [
        "def build_model():\n",
        "\n",
        "  opt = Adam(learning_rate=0.01)\n",
        "\n",
        "  model = Sequential()\n",
        "  model.add(Embedding(total_words, 16, input_length=x_train.shape[1], mask_zero=True))\n",
        "  model.add(LSTM(12, dropout=0.7, recurrent_dropout=0.7))\n",
        "  model.add(Dense(6, kernel_regularizer=regularizers.l1_l2(0.3)))\n",
        "  model.add(Dropout(0.8))\n",
        "  model.add(Dense(2, activation='softmax'))\n",
        "  model.compile(loss='binary_crossentropy', optimizer=opt, metrics=['accuracy'])\n",
        "  return model\n",
        "\n",
        "model_lstm=build_model()"
      ],
      "metadata": {
        "id": "ogwnhg22Zn6H"
      },
      "execution_count": null,
      "outputs": []
    },
    {
      "cell_type": "code",
      "source": [
        "\n",
        "history_lstm = model_lstm.fit(\n",
        "    x_train,\n",
        "    y_train,\n",
        "    epochs=30,\n",
        "    batch_size=8,\n",
        "    validation_data=(x_test, y_test),\n",
        "    shuffle=False,\n",
        "    callbacks=[EarlyStopping(monitor='accuracy', mode='max', patience=7)])"
      ],
      "metadata": {
        "colab": {
          "base_uri": "https://localhost:8080/"
        },
        "id": "yQyWzZlZKEl7",
        "outputId": "f686b181-aa7a-47c6-8412-780c78809b5c"
      },
      "execution_count": null,
      "outputs": [
        {
          "output_type": "stream",
          "name": "stdout",
          "text": [
            "Epoch 1/30\n",
            "24/24 [==============================] - 7s 70ms/step - loss: 5.0523 - accuracy: 0.5445 - val_loss: 2.8809 - val_accuracy: 0.9545\n",
            "Epoch 2/30\n",
            "24/24 [==============================] - 1s 52ms/step - loss: 1.7718 - accuracy: 0.8534 - val_loss: 0.9916 - val_accuracy: 1.0000\n",
            "Epoch 3/30\n",
            "24/24 [==============================] - 1s 47ms/step - loss: 0.8277 - accuracy: 0.7277 - val_loss: 0.7396 - val_accuracy: 1.0000\n",
            "Epoch 4/30\n",
            "24/24 [==============================] - 1s 45ms/step - loss: 0.7413 - accuracy: 0.7068 - val_loss: 0.7093 - val_accuracy: 1.0000\n",
            "Epoch 5/30\n",
            "24/24 [==============================] - 1s 43ms/step - loss: 0.7229 - accuracy: 0.7592 - val_loss: 0.7067 - val_accuracy: 1.0000\n",
            "Epoch 6/30\n",
            "24/24 [==============================] - 1s 46ms/step - loss: 0.7427 - accuracy: 0.7068 - val_loss: 0.6981 - val_accuracy: 0.9545\n",
            "Epoch 7/30\n",
            "24/24 [==============================] - 1s 60ms/step - loss: 0.6973 - accuracy: 0.8010 - val_loss: 0.6464 - val_accuracy: 1.0000\n",
            "Epoch 8/30\n",
            "24/24 [==============================] - 2s 85ms/step - loss: 0.7122 - accuracy: 0.7539 - val_loss: 0.6140 - val_accuracy: 1.0000\n",
            "Epoch 9/30\n",
            "24/24 [==============================] - 2s 78ms/step - loss: 0.7136 - accuracy: 0.7592 - val_loss: 0.5752 - val_accuracy: 1.0000\n"
          ]
        }
      ]
    },
    {
      "cell_type": "code",
      "source": [
        "fig, axes = plt.subplots(1, 2, figsize = (16,6))\n",
        "axes[0].plot(history_lstm.history['accuracy'])\n",
        "axes[0].plot(history_lstm.history['val_accuracy'],'--')\n",
        "axes[0].set_title('model accuracy')\n",
        "axes[0].set_ylabel('accuracy')\n",
        "axes[0].set_xlabel('epoch')\n",
        "axes[0].legend(['train', 'val'], loc='lower right')\n",
        "\n",
        "axes[1].plot(history_lstm.history['loss'])\n",
        "axes[1].plot(history_lstm.history['val_loss'],\"--\")\n",
        "axes[1].set_title('model loss')\n",
        "axes[1].set_ylabel('accuracy')\n",
        "axes[1].set_xlabel('epoch')\n",
        "axes[1].legend(['loss', 'val_loss'], loc='lower right')"
      ],
      "metadata": {
        "colab": {
          "base_uri": "https://localhost:8080/",
          "height": 601
        },
        "id": "-_mltegMZw2v",
        "outputId": "fc9f0628-5b6e-4e01-dd90-86dd30d8056b"
      },
      "execution_count": null,
      "outputs": [
        {
          "output_type": "execute_result",
          "data": {
            "text/plain": [
              "<matplotlib.legend.Legend at 0x7bc8de6a6fe0>"
            ]
          },
          "metadata": {},
          "execution_count": 454
        },
        {
          "output_type": "display_data",
          "data": {
            "text/plain": [
              "<Figure size 1600x600 with 2 Axes>"
            ],
            "image/png": "[encoded data removed]"
          },
          "metadata": {}
        }
      ]
    },
    {
      "cell_type": "markdown",
      "source": [
        "## Save the model"
      ],
      "metadata": {
        "id": "Wj7oQRHW2--9"
      }
    },
    {
      "cell_type": "code",
      "source": [
        "model_lstm.save('/content/drive/MyDrive/LSTM_apology_detection.keras')"
      ],
      "metadata": {
        "id": "13tsSK71dVWX"
      },
      "execution_count": null,
      "outputs": []
    },
    {
      "cell_type": "markdown",
      "source": [
        "# **TEST**"
      ],
      "metadata": {
        "id": "Kd8k1bcn0V6I"
      }
    },
    {
      "cell_type": "markdown",
      "source": [
        "### importation du modele :"
      ],
      "metadata": {
        "id": "TfjUpkLH0bfA"
      }
    },
    {
      "cell_type": "code",
      "source": [
        "from keras.models import load_model\n",
        "\n",
        "loaded_model = load_model('/content/drive/MyDrive/LSTM_apology_detection.keras')"
      ],
      "metadata": {
        "id": "BaUeCwDgZfyw"
      },
      "execution_count": null,
      "outputs": []
    },
    {
      "cell_type": "markdown",
      "source": [
        "### test de predictions"
      ],
      "metadata": {
        "id": "lAhYdGD90ysR"
      }
    },
    {
      "cell_type": "code",
      "source": [
        "APOLOGY_THRESHOLD = 0.72\n",
        "def predict(input):\n",
        "    data = {\"response\":[f\"{input}\"]}\n",
        "    test = pd.DataFrame(data)\n",
        "\n",
        "    max_words = 341\n",
        "    max_len = 41\n",
        "\n",
        "    tok = Tokenizer(num_words=max_words)\n",
        "    tok.fit_on_texts(test[\"response\"])\n",
        "    sequences = tok.texts_to_sequences(test[\"response\"])\n",
        "    txts = sequence.pad_sequences(sequences, maxlen=max_len, padding='post')\n",
        "    preds = loaded_model.predict(txts)\n",
        "    preds_=[ \"apology\" if APOLOGY_THRESHOLD<j else \"no apology\" for i,j in preds ]\n",
        "    return preds_[0]"
      ],
      "metadata": {
        "id": "pM4ivkhEaFFw"
      },
      "execution_count": null,
      "outputs": []
    },
    {
      "cell_type": "code",
      "source": [
        "print(predict(\"We apologize for this incident, we promise you a better experience on your next visit.\"))\n",
        "print(predict(\"Your positive feedback motivates us to keep delivering exceptional service!\"))\n",
        "print(predict(\"We're sorry for any inconvenience during your recent interaction with our service.\"))\n",
        "print(predict(\"Thank you for your positive review!\"))\n",
        "print(predict(\"Your feedback is essential to us! We're sorry if your recent experience didn't meet your expectations.\"))\n",
        "print(predict(\"We're grateful for your kind words and look forward to creating more memorable experiences with you.\"))\n"
      ],
      "metadata": {
        "colab": {
          "base_uri": "https://localhost:8080/"
        },
        "id": "E29muieveVbb",
        "outputId": "ad1b83b0-0b25-4059-8a82-7e9da61770ba"
      },
      "execution_count": null,
      "outputs": [
        {
          "output_type": "stream",
          "name": "stdout",
          "text": [
            "1/1 [==============================] - 0s 27ms/step\n",
            "apology\n",
            "1/1 [==============================] - 0s 26ms/step\n",
            "no apology\n",
            "1/1 [==============================] - 0s 25ms/step\n",
            "apology\n",
            "1/1 [==============================] - 0s 29ms/step\n",
            "no apology\n",
            "1/1 [==============================] - 0s 37ms/step\n",
            "apology\n",
            "1/1 [==============================] - 0s 25ms/step\n",
            "no apology\n"
          ]
        }
      ]
    }
  ]
}